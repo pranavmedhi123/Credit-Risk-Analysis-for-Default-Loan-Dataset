{
 "cells": [
  {
   "cell_type": "markdown",
   "id": "eedb8b75",
   "metadata": {},
   "source": [
    "# Credit Risk Analysis for Default Loan Dataset\n",
    "\n",
    "\n",
    "- Given a loan dataset with information on each customer, we are to design a predictive model which will firstly predict the chances of any given customer defaulting payments and further estimating the corresponding losses.\n"
   ]
  },
  {
   "cell_type": "code",
   "execution_count": 1,
   "id": "00f635a6",
   "metadata": {},
   "outputs": [],
   "source": [
    "# Goal: Create a function that considers all the properties of a loan and predict/estimate the loss.\n",
    "import matplotlib.pyplot as plt\n",
    "from sklearn.metrics import confusion_matrix, ConfusionMatrixDisplay\n",
    "import pandas as pd\n",
    "from xgboost import XGBClassifier\n",
    "from sklearn.model_selection import train_test_split\n",
    "from sklearn.linear_model import LogisticRegression\n",
    "from sklearn.ensemble import RandomForestClassifier\n",
    "from sklearn.svm import SVC\n",
    "from sklearn.preprocessing import StandardScaler\n",
    "from sklearn.ensemble import StackingClassifier\n",
    "from sklearn.metrics import accuracy_score, precision_score, recall_score, f1_score, roc_auc_score\n",
    "\n",
    "df= pd.read_csv('Task 3 and 4_Loan_Data.csv')"
   ]
  },
  {
   "cell_type": "markdown",
   "id": "8359d1af",
   "metadata": {},
   "source": [
    "#### Exploring the dataset and its parameters."
   ]
  },
  {
   "cell_type": "code",
   "execution_count": 2,
   "id": "ba143229",
   "metadata": {},
   "outputs": [
    {
     "data": {
      "text/html": [
       "<div>\n",
       "<style scoped>\n",
       "    .dataframe tbody tr th:only-of-type {\n",
       "        vertical-align: middle;\n",
       "    }\n",
       "\n",
       "    .dataframe tbody tr th {\n",
       "        vertical-align: top;\n",
       "    }\n",
       "\n",
       "    .dataframe thead th {\n",
       "        text-align: right;\n",
       "    }\n",
       "</style>\n",
       "<table border=\"1\" class=\"dataframe\">\n",
       "  <thead>\n",
       "    <tr style=\"text-align: right;\">\n",
       "      <th></th>\n",
       "      <th>customer_id</th>\n",
       "      <th>credit_lines_outstanding</th>\n",
       "      <th>loan_amt_outstanding</th>\n",
       "      <th>total_debt_outstanding</th>\n",
       "      <th>income</th>\n",
       "      <th>years_employed</th>\n",
       "      <th>fico_score</th>\n",
       "      <th>default</th>\n",
       "    </tr>\n",
       "  </thead>\n",
       "  <tbody>\n",
       "    <tr>\n",
       "      <th>0</th>\n",
       "      <td>8153374</td>\n",
       "      <td>0</td>\n",
       "      <td>5221.545193</td>\n",
       "      <td>3915.471226</td>\n",
       "      <td>78039.38546</td>\n",
       "      <td>5</td>\n",
       "      <td>605</td>\n",
       "      <td>0</td>\n",
       "    </tr>\n",
       "    <tr>\n",
       "      <th>1</th>\n",
       "      <td>7442532</td>\n",
       "      <td>5</td>\n",
       "      <td>1958.928726</td>\n",
       "      <td>8228.752520</td>\n",
       "      <td>26648.43525</td>\n",
       "      <td>2</td>\n",
       "      <td>572</td>\n",
       "      <td>1</td>\n",
       "    </tr>\n",
       "    <tr>\n",
       "      <th>2</th>\n",
       "      <td>2256073</td>\n",
       "      <td>0</td>\n",
       "      <td>3363.009259</td>\n",
       "      <td>2027.830850</td>\n",
       "      <td>65866.71246</td>\n",
       "      <td>4</td>\n",
       "      <td>602</td>\n",
       "      <td>0</td>\n",
       "    </tr>\n",
       "    <tr>\n",
       "      <th>3</th>\n",
       "      <td>4885975</td>\n",
       "      <td>0</td>\n",
       "      <td>4766.648001</td>\n",
       "      <td>2501.730397</td>\n",
       "      <td>74356.88347</td>\n",
       "      <td>5</td>\n",
       "      <td>612</td>\n",
       "      <td>0</td>\n",
       "    </tr>\n",
       "    <tr>\n",
       "      <th>4</th>\n",
       "      <td>4700614</td>\n",
       "      <td>1</td>\n",
       "      <td>1345.827718</td>\n",
       "      <td>1768.826187</td>\n",
       "      <td>23448.32631</td>\n",
       "      <td>6</td>\n",
       "      <td>631</td>\n",
       "      <td>0</td>\n",
       "    </tr>\n",
       "  </tbody>\n",
       "</table>\n",
       "</div>"
      ],
      "text/plain": [
       "   customer_id  credit_lines_outstanding  loan_amt_outstanding  \\\n",
       "0      8153374                         0           5221.545193   \n",
       "1      7442532                         5           1958.928726   \n",
       "2      2256073                         0           3363.009259   \n",
       "3      4885975                         0           4766.648001   \n",
       "4      4700614                         1           1345.827718   \n",
       "\n",
       "   total_debt_outstanding       income  years_employed  fico_score  default  \n",
       "0             3915.471226  78039.38546               5         605        0  \n",
       "1             8228.752520  26648.43525               2         572        1  \n",
       "2             2027.830850  65866.71246               4         602        0  \n",
       "3             2501.730397  74356.88347               5         612        0  \n",
       "4             1768.826187  23448.32631               6         631        0  "
      ]
     },
     "execution_count": 2,
     "metadata": {},
     "output_type": "execute_result"
    }
   ],
   "source": [
    "df.head()"
   ]
  },
  {
   "cell_type": "code",
   "execution_count": 3,
   "id": "9d688ffc",
   "metadata": {},
   "outputs": [
    {
     "data": {
      "text/plain": [
       "(10000, 8)"
      ]
     },
     "execution_count": 3,
     "metadata": {},
     "output_type": "execute_result"
    }
   ],
   "source": [
    "df.shape"
   ]
  },
  {
   "cell_type": "code",
   "execution_count": 4,
   "id": "aac2237d",
   "metadata": {},
   "outputs": [
    {
     "data": {
      "text/plain": [
       "customer_id                   int64\n",
       "credit_lines_outstanding      int64\n",
       "loan_amt_outstanding        float64\n",
       "total_debt_outstanding      float64\n",
       "income                      float64\n",
       "years_employed                int64\n",
       "fico_score                    int64\n",
       "default                       int64\n",
       "dtype: object"
      ]
     },
     "execution_count": 4,
     "metadata": {},
     "output_type": "execute_result"
    }
   ],
   "source": [
    "df.dtypes"
   ]
  },
  {
   "cell_type": "code",
   "execution_count": 5,
   "id": "c6893474",
   "metadata": {},
   "outputs": [
    {
     "data": {
      "text/plain": [
       "array([0, 1], dtype=int64)"
      ]
     },
     "execution_count": 5,
     "metadata": {},
     "output_type": "execute_result"
    }
   ],
   "source": [
    "df.default.unique()"
   ]
  },
  {
   "cell_type": "code",
   "execution_count": 6,
   "id": "eb18ff33",
   "metadata": {},
   "outputs": [
    {
     "data": {
      "text/plain": [
       "11"
      ]
     },
     "execution_count": 6,
     "metadata": {},
     "output_type": "execute_result"
    }
   ],
   "source": [
    "df.years_employed.nunique()"
   ]
  },
  {
   "cell_type": "code",
   "execution_count": 7,
   "id": "73197683",
   "metadata": {},
   "outputs": [
    {
     "data": {
      "text/plain": [
       "5     2574\n",
       "4     2116\n",
       "3     1763\n",
       "6     1670\n",
       "2      688\n",
       "7      664\n",
       "8      275\n",
       "1      164\n",
       "9       43\n",
       "0       32\n",
       "10      11\n",
       "Name: years_employed, dtype: int64"
      ]
     },
     "execution_count": 7,
     "metadata": {},
     "output_type": "execute_result"
    }
   ],
   "source": [
    "df.years_employed.value_counts()"
   ]
  },
  {
   "cell_type": "code",
   "execution_count": 8,
   "id": "a67a3017",
   "metadata": {},
   "outputs": [
    {
     "data": {
      "text/plain": [
       "Index(['customer_id', 'credit_lines_outstanding', 'loan_amt_outstanding',\n",
       "       'total_debt_outstanding', 'income', 'years_employed', 'fico_score',\n",
       "       'default'],\n",
       "      dtype='object')"
      ]
     },
     "execution_count": 8,
     "metadata": {},
     "output_type": "execute_result"
    }
   ],
   "source": [
    "df.columns"
   ]
  },
  {
   "cell_type": "markdown",
   "id": "56a7e47a",
   "metadata": {},
   "source": [
    "### Training the model using Logistic Regression, Random Forest Classifier, Support Vector Classifier, XGBoost Classifier (Individually) as the underlying algorithm for calculating expected loss on a given loan instance"
   ]
  },
  {
   "cell_type": "code",
   "execution_count": 9,
   "id": "28d1cb88",
   "metadata": {},
   "outputs": [],
   "source": [
    "# Step 1: Preparing Features and target\n",
    "\n",
    "X=df[['credit_lines_outstanding', 'loan_amt_outstanding',\n",
    "       'total_debt_outstanding', 'income', 'years_employed', 'fico_score']]\n",
    "Y=df['default']"
   ]
  },
  {
   "cell_type": "code",
   "execution_count": 10,
   "id": "a811600b",
   "metadata": {},
   "outputs": [
    {
     "data": {
      "text/html": [
       "<div>\n",
       "<style scoped>\n",
       "    .dataframe tbody tr th:only-of-type {\n",
       "        vertical-align: middle;\n",
       "    }\n",
       "\n",
       "    .dataframe tbody tr th {\n",
       "        vertical-align: top;\n",
       "    }\n",
       "\n",
       "    .dataframe thead th {\n",
       "        text-align: right;\n",
       "    }\n",
       "</style>\n",
       "<table border=\"1\" class=\"dataframe\">\n",
       "  <thead>\n",
       "    <tr style=\"text-align: right;\">\n",
       "      <th></th>\n",
       "      <th>credit_lines_outstanding</th>\n",
       "      <th>loan_amt_outstanding</th>\n",
       "      <th>total_debt_outstanding</th>\n",
       "      <th>income</th>\n",
       "      <th>years_employed</th>\n",
       "      <th>fico_score</th>\n",
       "    </tr>\n",
       "  </thead>\n",
       "  <tbody>\n",
       "    <tr>\n",
       "      <th>0</th>\n",
       "      <td>0</td>\n",
       "      <td>5221.545193</td>\n",
       "      <td>3915.471226</td>\n",
       "      <td>78039.38546</td>\n",
       "      <td>5</td>\n",
       "      <td>605</td>\n",
       "    </tr>\n",
       "    <tr>\n",
       "      <th>1</th>\n",
       "      <td>5</td>\n",
       "      <td>1958.928726</td>\n",
       "      <td>8228.752520</td>\n",
       "      <td>26648.43525</td>\n",
       "      <td>2</td>\n",
       "      <td>572</td>\n",
       "    </tr>\n",
       "    <tr>\n",
       "      <th>2</th>\n",
       "      <td>0</td>\n",
       "      <td>3363.009259</td>\n",
       "      <td>2027.830850</td>\n",
       "      <td>65866.71246</td>\n",
       "      <td>4</td>\n",
       "      <td>602</td>\n",
       "    </tr>\n",
       "    <tr>\n",
       "      <th>3</th>\n",
       "      <td>0</td>\n",
       "      <td>4766.648001</td>\n",
       "      <td>2501.730397</td>\n",
       "      <td>74356.88347</td>\n",
       "      <td>5</td>\n",
       "      <td>612</td>\n",
       "    </tr>\n",
       "    <tr>\n",
       "      <th>4</th>\n",
       "      <td>1</td>\n",
       "      <td>1345.827718</td>\n",
       "      <td>1768.826187</td>\n",
       "      <td>23448.32631</td>\n",
       "      <td>6</td>\n",
       "      <td>631</td>\n",
       "    </tr>\n",
       "  </tbody>\n",
       "</table>\n",
       "</div>"
      ],
      "text/plain": [
       "   credit_lines_outstanding  loan_amt_outstanding  total_debt_outstanding  \\\n",
       "0                         0           5221.545193             3915.471226   \n",
       "1                         5           1958.928726             8228.752520   \n",
       "2                         0           3363.009259             2027.830850   \n",
       "3                         0           4766.648001             2501.730397   \n",
       "4                         1           1345.827718             1768.826187   \n",
       "\n",
       "        income  years_employed  fico_score  \n",
       "0  78039.38546               5         605  \n",
       "1  26648.43525               2         572  \n",
       "2  65866.71246               4         602  \n",
       "3  74356.88347               5         612  \n",
       "4  23448.32631               6         631  "
      ]
     },
     "execution_count": 10,
     "metadata": {},
     "output_type": "execute_result"
    }
   ],
   "source": [
    "X.head()"
   ]
  },
  {
   "cell_type": "code",
   "execution_count": 11,
   "id": "fa7902f1",
   "metadata": {},
   "outputs": [],
   "source": [
    "# Step 2: Splitting dataset into training dataset and testing dataset.\n",
    "\n",
    "X_train, X_test, Y_train, Y_test= train_test_split(X, Y , test_size=0.2, random_state=11)"
   ]
  },
  {
   "cell_type": "code",
   "execution_count": 12,
   "id": "25152a99",
   "metadata": {},
   "outputs": [],
   "source": [
    "#Step 3: Scaling the features (also called as normalization, its process of bringing features on a same scale \n",
    " # which is standard deviation 1 and mean 0 for all features.)\n",
    "\n",
    "scaler= StandardScaler()\n",
    "X_train_scaled= scaler.fit_transform(X_train)\n",
    "X_test_scaled= scaler.transform(X_test)"
   ]
  },
  {
   "cell_type": "code",
   "execution_count": 13,
   "id": "f73a8459",
   "metadata": {},
   "outputs": [
    {
     "data": {
      "text/plain": [
       "LogisticRegression(random_state=11)"
      ]
     },
     "execution_count": 13,
     "metadata": {},
     "output_type": "execute_result"
    }
   ],
   "source": [
    "# Step 4 v1: Training the Logistic Regression Model\n",
    "\n",
    "model1=LogisticRegression(random_state=11)\n",
    "model1.fit(X_train_scaled,Y_train)"
   ]
  },
  {
   "cell_type": "code",
   "execution_count": 14,
   "id": "f6f0f65b",
   "metadata": {},
   "outputs": [
    {
     "data": {
      "text/plain": [
       "RandomForestClassifier(random_state=11)"
      ]
     },
     "execution_count": 14,
     "metadata": {},
     "output_type": "execute_result"
    }
   ],
   "source": [
    "# Step 4 v2: Training for Random Forest Classifier\n",
    "\n",
    "model2=RandomForestClassifier(n_estimators=100, random_state=11)\n",
    "model2.fit(X_train_scaled,Y_train)"
   ]
  },
  {
   "cell_type": "code",
   "execution_count": 15,
   "id": "8b3f6de8",
   "metadata": {},
   "outputs": [
    {
     "data": {
      "text/plain": [
       "SVC(probability=True, random_state=11)"
      ]
     },
     "execution_count": 15,
     "metadata": {},
     "output_type": "execute_result"
    }
   ],
   "source": [
    "# Step 4 v3:  Training for Support Vector Classifier\n",
    "model3 = SVC(probability=True, random_state=11)\n",
    "model3.fit(X_train_scaled,Y_train)"
   ]
  },
  {
   "cell_type": "code",
   "execution_count": 16,
   "id": "b4c7232d",
   "metadata": {},
   "outputs": [
    {
     "name": "stderr",
     "output_type": "stream",
     "text": [
      "C:\\Users\\prana\\anaconda3\\lib\\site-packages\\xgboost\\core.py:158: UserWarning: [21:39:36] WARNING: C:\\buildkite-agent\\builds\\buildkite-windows-cpu-autoscaling-group-i-0015a694724fa8361-1\\xgboost\\xgboost-ci-windows\\src\\learner.cc:740: \n",
      "Parameters: { \"use_label_encoder\" } are not used.\n",
      "\n",
      "  warnings.warn(smsg, UserWarning)\n"
     ]
    },
    {
     "data": {
      "text/plain": [
       "XGBClassifier(base_score=None, booster=None, callbacks=None,\n",
       "              colsample_bylevel=None, colsample_bynode=None,\n",
       "              colsample_bytree=None, device=None, early_stopping_rounds=None,\n",
       "              enable_categorical=False, eval_metric='logloss',\n",
       "              feature_types=None, gamma=None, grow_policy=None,\n",
       "              importance_type=None, interaction_constraints=None,\n",
       "              learning_rate=None, max_bin=None, max_cat_threshold=None,\n",
       "              max_cat_to_onehot=None, max_delta_step=None, max_depth=None,\n",
       "              max_leaves=None, min_child_weight=None, missing=nan,\n",
       "              monotone_constraints=None, multi_strategy=None, n_estimators=None,\n",
       "              n_jobs=None, num_parallel_tree=None, random_state=11, ...)"
      ]
     },
     "execution_count": 16,
     "metadata": {},
     "output_type": "execute_result"
    }
   ],
   "source": [
    "# Step 4 v4: XG Boosting Classifier\n",
    "model4 = XGBClassifier(use_label_encoder=False, eval_metric='logloss', random_state=11)\n",
    "model4.fit(X_train_scaled,Y_train)"
   ]
  },
  {
   "cell_type": "markdown",
   "id": "dd238f9b",
   "metadata": {},
   "source": [
    "### Combining the models into a meta-model using a Stack Classifier, this meta-model will combine the predictions of each base model and learn to do it effectively, so that the expected probability will be an optimized combination of all the above models."
   ]
  },
  {
   "cell_type": "code",
   "execution_count": 17,
   "id": "b50ea099",
   "metadata": {},
   "outputs": [
    {
     "name": "stderr",
     "output_type": "stream",
     "text": [
      "C:\\Users\\prana\\anaconda3\\lib\\site-packages\\xgboost\\core.py:158: UserWarning: [21:39:38] WARNING: C:\\buildkite-agent\\builds\\buildkite-windows-cpu-autoscaling-group-i-0015a694724fa8361-1\\xgboost\\xgboost-ci-windows\\src\\learner.cc:740: \n",
      "Parameters: { \"use_label_encoder\" } are not used.\n",
      "\n",
      "  warnings.warn(smsg, UserWarning)\n",
      "C:\\Users\\prana\\anaconda3\\lib\\site-packages\\xgboost\\core.py:158: UserWarning: [21:39:43] WARNING: C:\\buildkite-agent\\builds\\buildkite-windows-cpu-autoscaling-group-i-0015a694724fa8361-1\\xgboost\\xgboost-ci-windows\\src\\learner.cc:740: \n",
      "Parameters: { \"use_label_encoder\" } are not used.\n",
      "\n",
      "  warnings.warn(smsg, UserWarning)\n",
      "C:\\Users\\prana\\anaconda3\\lib\\site-packages\\xgboost\\core.py:158: UserWarning: [21:39:43] WARNING: C:\\buildkite-agent\\builds\\buildkite-windows-cpu-autoscaling-group-i-0015a694724fa8361-1\\xgboost\\xgboost-ci-windows\\src\\learner.cc:740: \n",
      "Parameters: { \"use_label_encoder\" } are not used.\n",
      "\n",
      "  warnings.warn(smsg, UserWarning)\n",
      "C:\\Users\\prana\\anaconda3\\lib\\site-packages\\xgboost\\core.py:158: UserWarning: [21:39:43] WARNING: C:\\buildkite-agent\\builds\\buildkite-windows-cpu-autoscaling-group-i-0015a694724fa8361-1\\xgboost\\xgboost-ci-windows\\src\\learner.cc:740: \n",
      "Parameters: { \"use_label_encoder\" } are not used.\n",
      "\n",
      "  warnings.warn(smsg, UserWarning)\n",
      "C:\\Users\\prana\\anaconda3\\lib\\site-packages\\xgboost\\core.py:158: UserWarning: [21:39:43] WARNING: C:\\buildkite-agent\\builds\\buildkite-windows-cpu-autoscaling-group-i-0015a694724fa8361-1\\xgboost\\xgboost-ci-windows\\src\\learner.cc:740: \n",
      "Parameters: { \"use_label_encoder\" } are not used.\n",
      "\n",
      "  warnings.warn(smsg, UserWarning)\n",
      "C:\\Users\\prana\\anaconda3\\lib\\site-packages\\xgboost\\core.py:158: UserWarning: [21:39:43] WARNING: C:\\buildkite-agent\\builds\\buildkite-windows-cpu-autoscaling-group-i-0015a694724fa8361-1\\xgboost\\xgboost-ci-windows\\src\\learner.cc:740: \n",
      "Parameters: { \"use_label_encoder\" } are not used.\n",
      "\n",
      "  warnings.warn(smsg, UserWarning)\n"
     ]
    },
    {
     "data": {
      "text/plain": [
       "StackingClassifier(estimators=[('lr', LogisticRegression(random_state=11)),\n",
       "                               ('rf', RandomForestClassifier(random_state=11)),\n",
       "                               ('svc', SVC(probability=True, random_state=11)),\n",
       "                               ('xgb',\n",
       "                                XGBClassifier(base_score=None, booster=None,\n",
       "                                              callbacks=None,\n",
       "                                              colsample_bylevel=None,\n",
       "                                              colsample_bynode=None,\n",
       "                                              colsample_bytree=None,\n",
       "                                              device=None,\n",
       "                                              early_stopping_rounds=None,\n",
       "                                              enable_categ...\n",
       "                                              interaction_constraints=None,\n",
       "                                              learning_rate=None, max_bin=None,\n",
       "                                              max_cat_threshold=None,\n",
       "                                              max_cat_to_onehot=None,\n",
       "                                              max_delta_step=None,\n",
       "                                              max_depth=None, max_leaves=None,\n",
       "                                              min_child_weight=None,\n",
       "                                              missing=nan,\n",
       "                                              monotone_constraints=None,\n",
       "                                              multi_strategy=None,\n",
       "                                              n_estimators=None, n_jobs=None,\n",
       "                                              num_parallel_tree=None,\n",
       "                                              random_state=11, ...))],\n",
       "                   final_estimator=LogisticRegression())"
      ]
     },
     "execution_count": 17,
     "metadata": {},
     "output_type": "execute_result"
    }
   ],
   "source": [
    "# Step 4 v5\n",
    "\n",
    "# Defining a stacking classifier (meta-model)\n",
    "model5 = StackingClassifier(estimators=[\n",
    "    ('lr', model1),    # Logistic Regression\n",
    "    ('rf', model2),    # Random Forest\n",
    "    ('svc', model3),   # Support Vector Classifier\n",
    "    ('xgb', model4)     # XGBoosting Classifier\n",
    "], final_estimator=LogisticRegression())  # Meta-model can be any classifier\n",
    "\n",
    "# Train the stacking classifier\n",
    "model5.fit(X_train_scaled, Y_train)\n"
   ]
  },
  {
   "cell_type": "code",
   "execution_count": 18,
   "id": "d525bc76",
   "metadata": {},
   "outputs": [],
   "source": [
    "model_numbers={\n",
    "    1: model1 ,# Logistic Regression\n",
    "    2: model2, # Random Forest Classifier\n",
    "    3: model3, # Support Vector Classifier\n",
    "    4: model4, # XGBoosting Classifier\n",
    "    5: model5, # Stacking Classifier\n",
    "        # use 6 for weighted ensemble Strategy\n",
    "    }"
   ]
  },
  {
   "cell_type": "markdown",
   "id": "5f3d0315",
   "metadata": {},
   "source": [
    "### Combining the results of the models utilizing weights to form a Custom Weighted Ensemble Strategy, I have implemented this model within the calculate_expected_loss function"
   ]
  },
  {
   "cell_type": "code",
   "execution_count": 19,
   "id": "88d19265",
   "metadata": {},
   "outputs": [],
   "source": [
    "#Step 5: Function for calculating expected loss based on the Predictive model\n",
    "\n",
    "def calculate_expected_loss(credit_lines_outstanding, loan_amt_outstanding,\n",
    "       total_debt_outstanding, income, years_employed, fico_score, model_number):\n",
    "    # model variable used for defining which model to use while calculating\n",
    "    # Putting these inputs into a dataframe and scaling them\n",
    "    \n",
    "    model_numbers={\n",
    "    1:model1 ,# Logistic Regression\n",
    "    2: model2, # Random Forest Classifier\n",
    "    3: model3, # Support Vector Classifier\n",
    "    4: model4, # Gradient Boosting Classifier\n",
    "    5: model5, # Stacking Classifier\n",
    "    # use 6 for weighted ensemble Strategy\n",
    "    }\n",
    "    \n",
    "    loan_data=pd.DataFrame({\n",
    "        'credit_lines_outstanding': [credit_lines_outstanding],\n",
    "        'loan_amt_outstanding': [loan_amt_outstanding],\n",
    "        'total_debt_outstanding': [total_debt_outstanding],\n",
    "        'income': [income],\n",
    "        'years_employed': [years_employed],\n",
    "        'fico_score': [fico_score]\n",
    "    })\n",
    "    \n",
    "    model_weights={\n",
    "        1: 0.3,\n",
    "        2: 0.3,\n",
    "        3: 0.1,\n",
    "        4: 0.3\n",
    "    }\n",
    "    \n",
    "    loan_data_scaled=scaler.transform(loan_data)\n",
    "    \n",
    "    if model_number != 6:\n",
    "        # Selecting the model based on the model numbers\n",
    "        selected_model = model_numbers[model_number]\n",
    "        \n",
    "        # Predict the probability of default (PD)\n",
    "        PD_prob = selected_model.predict_proba(loan_data_scaled)[:, 1]  # Probability of default\n",
    "        PD_prob=PD_prob[0]\n",
    "        \n",
    "    else:\n",
    "        # For model number 6, calculate the weighted ensemble prediction\n",
    "        PD_prob = 0\n",
    "        for model_num, weight in model_weights.items():\n",
    "            model = model_numbers[model_num]\n",
    "            model_pd_prob = model.predict_proba(loan_data_scaled)[:, 1]  # Probability of default\n",
    "            PD_prob += weight * model_pd_prob  # Weighted sum of probabilities\n",
    "            \n",
    "        PD_prob = PD_prob[0]  # Final weighted probability\n",
    "    \n",
    "    \n",
    "    #Given\n",
    "    recovery_rate=0.10\n",
    "    \n",
    "    #Calculating expected loss\n",
    "    expected_loss= (1-recovery_rate)* PD_prob * loan_amt_outstanding\n",
    "    \n",
    "    return expected_loss"
   ]
  },
  {
   "cell_type": "code",
   "execution_count": 20,
   "id": "4b066cea",
   "metadata": {},
   "outputs": [
    {
     "name": "stdout",
     "output_type": "stream",
     "text": [
      "Expected Loss: $140.08\n"
     ]
    }
   ],
   "source": [
    "# Example for logistic Regression\n",
    "\n",
    "example_loss = calculate_expected_loss(credit_lines_outstanding=3, loan_amt_outstanding=5000, \n",
    "                                       total_debt_outstanding=3000, income=50000, years_employed=3, fico_score=620,model_number=1)\n",
    "print(f\"Expected Loss: ${example_loss:.2f}\")"
   ]
  },
  {
   "cell_type": "code",
   "execution_count": 21,
   "id": "35e5779e",
   "metadata": {},
   "outputs": [
    {
     "name": "stdout",
     "output_type": "stream",
     "text": [
      "Expected Loss: $2925.00\n"
     ]
    }
   ],
   "source": [
    "# Example for Random Forest Classifier\n",
    "\n",
    "example_loss = calculate_expected_loss(credit_lines_outstanding=3, loan_amt_outstanding=5000, \n",
    "                                       total_debt_outstanding=3000, income=50000, years_employed=3, fico_score=620,model_number=2)\n",
    "print(f\"Expected Loss: ${example_loss:.2f}\")"
   ]
  },
  {
   "cell_type": "code",
   "execution_count": 22,
   "id": "3bc367e4",
   "metadata": {},
   "outputs": [
    {
     "name": "stdout",
     "output_type": "stream",
     "text": [
      "Expected Loss: $63.82\n"
     ]
    }
   ],
   "source": [
    "# Example for Support Vector Classifier\n",
    "\n",
    "example_loss = calculate_expected_loss(credit_lines_outstanding=3, loan_amt_outstanding=5000, \n",
    "                                       total_debt_outstanding=3000, income=50000, years_employed=3, fico_score=620,model_number=3)\n",
    "print(f\"Expected Loss: ${example_loss:.2f}\")"
   ]
  },
  {
   "cell_type": "code",
   "execution_count": 23,
   "id": "36477df6",
   "metadata": {},
   "outputs": [
    {
     "name": "stdout",
     "output_type": "stream",
     "text": [
      "Expected Loss: $4402.44\n"
     ]
    }
   ],
   "source": [
    "# Example for XG Boosting Classifier\n",
    "\n",
    "example_loss = calculate_expected_loss(credit_lines_outstanding=3, loan_amt_outstanding=5000, \n",
    "                                       total_debt_outstanding=3000, income=50000, years_employed=3, fico_score=620,model_number=4)\n",
    "print(f\"Expected Loss: ${example_loss:.2f}\")"
   ]
  },
  {
   "cell_type": "code",
   "execution_count": 24,
   "id": "13b2e359",
   "metadata": {},
   "outputs": [
    {
     "name": "stdout",
     "output_type": "stream",
     "text": [
      "Expected Loss: $316.05\n"
     ]
    }
   ],
   "source": [
    "# Example for Stacking Classifier\n",
    "\n",
    "example_loss = calculate_expected_loss(credit_lines_outstanding=3, loan_amt_outstanding=5000, \n",
    "                                       total_debt_outstanding=3000, income=50000, years_employed=3, fico_score=620,model_number=5)\n",
    "print(f\"Expected Loss: ${example_loss:.2f}\")"
   ]
  },
  {
   "cell_type": "code",
   "execution_count": 25,
   "id": "79d85a1d",
   "metadata": {},
   "outputs": [
    {
     "name": "stdout",
     "output_type": "stream",
     "text": [
      "Expected Loss: $2246.64\n"
     ]
    }
   ],
   "source": [
    "# Example for Weighted Ensemble Strategy\n",
    "\n",
    "example_loss = calculate_expected_loss(credit_lines_outstanding=3, loan_amt_outstanding=5000, \n",
    "                                       total_debt_outstanding=3000, income=50000, years_employed=3, fico_score=620,model_number=6)\n",
    "print(f\"Expected Loss: ${example_loss:.2f}\")"
   ]
  },
  {
   "cell_type": "markdown",
   "id": "a80b9cc9",
   "metadata": {},
   "source": [
    "### Now that we have results from 6 different models we can compare their accuracies as follows:"
   ]
  },
  {
   "cell_type": "code",
   "execution_count": 26,
   "id": "bd473acb",
   "metadata": {},
   "outputs": [
    {
     "name": "stderr",
     "output_type": "stream",
     "text": [
      "C:\\Users\\prana\\AppData\\Local\\Temp\\ipykernel_4348\\410406079.py:83: FutureWarning: The frame.append method is deprecated and will be removed from pandas in a future version. Use pandas.concat instead.\n",
      "  accuracy_results = accuracy_results.append({\n"
     ]
    },
    {
     "data": {
      "text/html": [
       "<div>\n",
       "<style scoped>\n",
       "    .dataframe tbody tr th:only-of-type {\n",
       "        vertical-align: middle;\n",
       "    }\n",
       "\n",
       "    .dataframe tbody tr th {\n",
       "        vertical-align: top;\n",
       "    }\n",
       "\n",
       "    .dataframe thead th {\n",
       "        text-align: right;\n",
       "    }\n",
       "</style>\n",
       "<table border=\"1\" class=\"dataframe\">\n",
       "  <thead>\n",
       "    <tr style=\"text-align: right;\">\n",
       "      <th></th>\n",
       "      <th>Model</th>\n",
       "      <th>Accuracy</th>\n",
       "      <th>Precision</th>\n",
       "      <th>Recall</th>\n",
       "      <th>F1 Score</th>\n",
       "      <th>ROC AUC</th>\n",
       "    </tr>\n",
       "  </thead>\n",
       "  <tbody>\n",
       "    <tr>\n",
       "      <th>0</th>\n",
       "      <td>Logistic Regression</td>\n",
       "      <td>0.9960</td>\n",
       "      <td>0.994565</td>\n",
       "      <td>0.983871</td>\n",
       "      <td>0.989189</td>\n",
       "      <td>0.999947</td>\n",
       "    </tr>\n",
       "    <tr>\n",
       "      <th>1</th>\n",
       "      <td>Random Forest Classifier</td>\n",
       "      <td>0.9940</td>\n",
       "      <td>0.986486</td>\n",
       "      <td>0.981183</td>\n",
       "      <td>0.983827</td>\n",
       "      <td>0.999696</td>\n",
       "    </tr>\n",
       "    <tr>\n",
       "      <th>2</th>\n",
       "      <td>Support Vector Classifier</td>\n",
       "      <td>0.9905</td>\n",
       "      <td>0.991643</td>\n",
       "      <td>0.956989</td>\n",
       "      <td>0.974008</td>\n",
       "      <td>0.999729</td>\n",
       "    </tr>\n",
       "    <tr>\n",
       "      <th>3</th>\n",
       "      <td>XGBoosting Classifier</td>\n",
       "      <td>0.9940</td>\n",
       "      <td>0.986486</td>\n",
       "      <td>0.981183</td>\n",
       "      <td>0.983827</td>\n",
       "      <td>0.999848</td>\n",
       "    </tr>\n",
       "    <tr>\n",
       "      <th>4</th>\n",
       "      <td>Stacking Classifier</td>\n",
       "      <td>0.9945</td>\n",
       "      <td>0.986523</td>\n",
       "      <td>0.983871</td>\n",
       "      <td>0.985195</td>\n",
       "      <td>0.999893</td>\n",
       "    </tr>\n",
       "    <tr>\n",
       "      <th>5</th>\n",
       "      <td>Weighted Ensemble</td>\n",
       "      <td>0.9950</td>\n",
       "      <td>0.989189</td>\n",
       "      <td>0.983871</td>\n",
       "      <td>0.986523</td>\n",
       "      <td>0.999884</td>\n",
       "    </tr>\n",
       "  </tbody>\n",
       "</table>\n",
       "</div>"
      ],
      "text/plain": [
       "                       Model  Accuracy  Precision    Recall  F1 Score  \\\n",
       "0        Logistic Regression    0.9960   0.994565  0.983871  0.989189   \n",
       "1   Random Forest Classifier    0.9940   0.986486  0.981183  0.983827   \n",
       "2  Support Vector Classifier    0.9905   0.991643  0.956989  0.974008   \n",
       "3      XGBoosting Classifier    0.9940   0.986486  0.981183  0.983827   \n",
       "4        Stacking Classifier    0.9945   0.986523  0.983871  0.985195   \n",
       "5          Weighted Ensemble    0.9950   0.989189  0.983871  0.986523   \n",
       "\n",
       "    ROC AUC  \n",
       "0  0.999947  \n",
       "1  0.999696  \n",
       "2  0.999729  \n",
       "3  0.999848  \n",
       "4  0.999893  \n",
       "5  0.999884  "
      ]
     },
     "execution_count": 26,
     "metadata": {},
     "output_type": "execute_result"
    }
   ],
   "source": [
    "model_names={\n",
    "    1: \"Logistic Regression\" ,# Logistic Regression\n",
    "    2: \"Random Forest Classifier\", # Random Forest Classifier\n",
    "    3: \"Support Vector Classifier\", # Support Vector Classifier\n",
    "    4: \"XGBoosting Classifier\", # XGBoosting Classifier\n",
    "    5: \"Stacking Classifier\", # Stacking Classifier\n",
    "        # use 6 for weighted ensemble Strategy\n",
    "    }\n",
    "model_weights={\n",
    "    1: 0.3,\n",
    "    2: 0.3,\n",
    "    3: 0.1,\n",
    "    4: 0.3\n",
    "}\n",
    "\n",
    "# Step 1: Prepare a function to evaluate models with additional metrics\n",
    "def evaluate_models(X_test_scaled, Y_test):\n",
    "    results = []\n",
    "    model_numbers={\n",
    "    1: model1 ,# Logistic Regression\n",
    "    2: model2, # Random Forest Classifier\n",
    "    3: model3, # Support Vector Classifier\n",
    "    4: model4, # XGBoosting Classifier\n",
    "    5: model5, # Stacking Classifier\n",
    "        # use 6 for weighted ensemble Strategy\n",
    "    }\n",
    "    # Loop through each model in the model_numbers dictionary\n",
    "    for model_num, model in model_numbers.items():\n",
    "        # Make predictions\n",
    "        predictions = model.predict(X_test_scaled)\n",
    "        predicted_proba = model.predict_proba(X_test_scaled)[:, 1] \n",
    "        \n",
    "        # Calculate metrics\n",
    "        accuracy = accuracy_score(Y_test, predictions)\n",
    "        precision = precision_score(Y_test, predictions)\n",
    "        recall = recall_score(Y_test, predictions)\n",
    "        f1 = f1_score(Y_test, predictions)\n",
    "        roc_auc = roc_auc_score(Y_test, predicted_proba)\n",
    "        \n",
    "        # Append results to the list\n",
    "        results.append({\n",
    "            'Model': model_names[model_num],\n",
    "            'Accuracy': accuracy,\n",
    "            'Precision': precision,\n",
    "            'Recall': recall,\n",
    "            'F1 Score': f1,\n",
    "            'ROC AUC': roc_auc\n",
    "        })\n",
    "    \n",
    "    # Create a DataFrame for the results\n",
    "    results_df = pd.DataFrame(results)\n",
    "    return results_df\n",
    "\n",
    "\n",
    "# Add the weighted ensemble model to the model_dict as I calculated for it directly in the function\n",
    "def weighted_ensemble_predict(X):\n",
    "    weighted_sum = 0\n",
    "    for model_num, weight in model_weights.items():\n",
    "        model = model_numbers[model_num]\n",
    "        model_pd_prob = model.predict_proba(X)[:, 1]\n",
    "        weighted_sum += weight * model_pd_prob\n",
    "    return weighted_sum\n",
    "\n",
    "# Include weighted ensemble model in the model_dict\n",
    "model_numbers[6] = None  # Placeholder for the weighted ensemble\n",
    "\n",
    "\n",
    "# Step 2: Evaluate the models using the test set\n",
    "accuracy_results = evaluate_models(X_test_scaled, Y_test)\n",
    "\n",
    "\n",
    "\n",
    "\n",
    "# Evaluate the weighted ensemble\n",
    "weighted_predictions = (weighted_ensemble_predict(X_test_scaled) > 0.5).astype(int)\n",
    "weighted_accuracy = accuracy_score(Y_test, weighted_predictions)\n",
    "weighted_precision = precision_score(Y_test, weighted_predictions)\n",
    "weighted_recall = recall_score(Y_test, weighted_predictions)\n",
    "weighted_f1 = f1_score(Y_test, weighted_predictions)\n",
    "weighted_roc_auc = roc_auc_score(Y_test, weighted_ensemble_predict(X_test_scaled))\n",
    "\n",
    "# Append the weighted ensemble results to the results list\n",
    "accuracy_results = accuracy_results.append({\n",
    "    'Model': 'Weighted Ensemble',  # Weighted Ensemble\n",
    "    'Accuracy': weighted_accuracy,\n",
    "    'Precision': weighted_precision,\n",
    "    'Recall': weighted_recall,\n",
    "    'F1 Score': weighted_f1,\n",
    "    'ROC AUC': weighted_roc_auc\n",
    "}, ignore_index=True)\n",
    "# Step 3: Display the evaluation results\n",
    "\n",
    "accuracy_results"
   ]
  },
  {
   "cell_type": "code",
   "execution_count": 27,
   "id": "f066709b",
   "metadata": {},
   "outputs": [
    {
     "data": {
      "text/plain": [
       "0    8149\n",
       "1    1851\n",
       "Name: default, dtype: int64"
      ]
     },
     "execution_count": 27,
     "metadata": {},
     "output_type": "execute_result"
    }
   ],
   "source": [
    "df.default.value_counts()"
   ]
  },
  {
   "cell_type": "code",
   "execution_count": 28,
   "id": "15e4e3bc",
   "metadata": {},
   "outputs": [
    {
     "data": {
      "image/png": "[encoded data removed]",
      "text/plain": [
       "<Figure size 432x288 with 2 Axes>"
      ]
     },
     "metadata": {
      "needs_background": "light"
     },
     "output_type": "display_data"
    }
   ],
   "source": [
    "\n",
    "\n",
    "# Testing the models with a confusion matrix\n",
    "# You can replace the model_.predict part with any model number to check confusion matrix for that specific model.\n",
    "# Predictions on test set for confusion matrix\n",
    "predictions = model5.predict(X_test_scaled)\n",
    "\n",
    "# Confusion matrix\n",
    "cm = confusion_matrix(Y_test, predictions)\n",
    "disp = ConfusionMatrixDisplay(confusion_matrix=cm)\n",
    "disp.plot()\n",
    "plt.show()"
   ]
  },
  {
   "cell_type": "markdown",
   "id": "44879a58",
   "metadata": {},
   "source": [
    "### Conclusion\n",
    "\n",
    "- We were able to calculate expected loss on given loan instance, using 4 different ML algorithms (Logistic Regression, \n",
    "   Support Vector Classifier, Random Forest Classifier, XGBoosting Classifier), and implemented 2 different strategies for combining algorithms (Stacking Classifier, Weighted Ensemble Strategy).\n",
    "\n",
    "- We were able to compare each of these models for 5 different metrics (Accuracy, Precision, Recall, F1 Score, ROC AUC).\n",
    "\n",
    "- Resulting metrics were around ~0.99 which means the models were either overfitted for the dataset, or the dataset could have an imbalance in defaulted vs non-defaulting customers, or even though there is a difference in the expected loss values, the prediction for defaulting were correct."
   ]
  }
 ],
 "metadata": {
  "kernelspec": {
   "display_name": "Python 3 (ipykernel)",
   "language": "python",
   "name": "python3"
  },
  "language_info": {
   "codemirror_mode": {
    "name": "ipython",
    "version": 3
   },
   "file_extension": ".py",
   "mimetype": "text/x-python",
   "name": "python",
   "nbconvert_exporter": "python",
   "pygments_lexer": "ipython3",
   "version": "3.9.12"
  }
 },
 "nbformat": 4,
 "nbformat_minor": 5
}
